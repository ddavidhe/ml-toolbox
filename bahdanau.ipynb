{
 "cells": [
  {
   "cell_type": "code",
   "execution_count": 2,
   "id": "c176cb50",
   "metadata": {},
   "outputs": [],
   "source": [
    "import numpy as np\n",
    "import torch\n",
    "import torch.nn as nn\n",
    "import torch.nn.functional as F\n"
   ]
  },
  {
   "cell_type": "code",
   "execution_count": 10,
   "id": "a1370854",
   "metadata": {},
   "outputs": [
    {
     "data": {
      "text/plain": [
       "tensor([[-0.2065, -0.6472, -0.4185],\n",
       "        [ 1.7214, -0.0587, -0.1263]])"
      ]
     },
     "execution_count": 10,
     "metadata": {},
     "output_type": "execute_result"
    }
   ],
   "source": [
    "x = torch.randn(2,3,1,1,1,1,1)\n",
    "x = x.squeeze()\n",
    "x"
   ]
  },
  {
   "cell_type": "code",
   "execution_count": null,
   "id": "aa3fd965",
   "metadata": {},
   "outputs": [],
   "source": [
    "class BahdanauAttention(nn.Module):\n",
    "    def __init__(self, hidden_size: int):\n",
    "        super().__init__()\n",
    "        self.hidden_size = hidden_size\n",
    "\n",
    "        # \n",
    "        self.W_a = nn.Linear(hidden_size, hidden_size) # in_features, out_features\n",
    "        self.v_a = nn.Linear(hidden_size, 1, bias=False)\n",
    "    \n",
    "    def forward(self, decoder_hidden, encoder_outputs):\n",
    "        # decoder_hidden: current decoder hidden state (batch_size, hidden_size)\n",
    "        # encoder_outputs: BiDirectional encoder outputs (batch_size, seq_len, hidden_size)\n",
    "\n",
    "        # function will return:\n",
    "            # context: the context vector (batch_size, 2*hidden_size) since it is the concatenation of forwards and backwards\n",
    "            # attention_weights: the attention weights (batch_size, seq_len)\n",
    "        \n",
    "        seq_len = encoder_outputs.size(1)\n",
    "        decoder_hidden = decoder_hidden.unsqueeze(1).repeat(1, seq_len, 1)\n",
    "\n",
    "        \n"
   ]
  }
 ],
 "metadata": {
  "kernelspec": {
   "display_name": "venv",
   "language": "python",
   "name": "python3"
  },
  "language_info": {
   "codemirror_mode": {
    "name": "ipython",
    "version": 3
   },
   "file_extension": ".py",
   "mimetype": "text/x-python",
   "name": "python",
   "nbconvert_exporter": "python",
   "pygments_lexer": "ipython3",
   "version": "3.9.6"
  }
 },
 "nbformat": 4,
 "nbformat_minor": 5
}

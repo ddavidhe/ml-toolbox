{
 "cells": [
  {
   "cell_type": "markdown",
   "id": "6e93c80c",
   "metadata": {},
   "source": [
    "Paper: https://arxiv.org/abs/1412.6980"
   ]
  },
  {
   "cell_type": "code",
   "execution_count": 1,
   "id": "2f92c1cb",
   "metadata": {},
   "outputs": [],
   "source": [
    "import numpy as np"
   ]
  },
  {
   "cell_type": "code",
   "execution_count": null,
   "id": "12838587",
   "metadata": {},
   "outputs": [],
   "source": [
    "def gradient_descent(f, df, initial_point, learning_rate, num_iterations, threshold):\n",
    "  # takes in a function, derivative, starting point, and preforms gradient descent\n",
    "\n",
    "  point = np.array(initial_point, dtype=float)\n",
    "  for i in range(num_iterations):\n",
    "    gradient = df(point)\n",
    "    step = learning_rate * gradient\n",
    "\n",
    "    if np.linalg.norm(step) < threshold:\n",
    "      break\n",
    "\n",
    "    point -= step\n",
    "    print(\"Iteration \", i, \": \", point)\n",
    "\n",
    "  return point"
   ]
  },
  {
   "cell_type": "code",
   "execution_count": null,
   "id": "374b3f97",
   "metadata": {},
   "outputs": [],
   "source": [
    "def adam_optimizer(f, df, initial_point, learning_rate, num_iterations, threshold, beta1=0.9, beta2=0.999, epsilon=1e-8):\n",
    "    # takes in the same stuff as GD but uses Adam optimization, aka momentum\n",
    "\n",
    "    point = np.array(initial_point, dtype=float)\n",
    "    m = np.zeros_like(point)  # First moment vector\n",
    "    v = np.zeros_like(point)  # Second moment vector\n",
    "\n",
    "    for i in range(1, num_iterations + 1):\n",
    "        gradient = df(point)\n",
    "\n",
    "        # Update biased first and second moment estimates\n",
    "        m = beta1 * m + (1 - beta1) * gradient\n",
    "        v = beta2 * v + (1 - beta2) * (gradient**2)\n",
    "\n",
    "        # Correct bias in first and second moment estimates\n",
    "        m_hat = m / (1 - beta1**i)\n",
    "        v_hat = v / (1 - beta2**i)\n",
    "\n",
    "        step = learning_rate * m_hat / (np.sqrt(v_hat) + epsilon)\n",
    "\n",
    "        if np.linalg.norm(step) < threshold:\n",
    "            break\n",
    "\n",
    "        point -= step\n",
    "        print(\"Iteration \", i, \": \", point)\n",
    "\n",
    "    return point"
   ]
  },
  {
   "cell_type": "code",
   "execution_count": null,
   "id": "eb3c6dcd",
   "metadata": {},
   "outputs": [],
   "source": [
    "# apparently Himmelblau is quite famous\n",
    "def f_himmelblau(point):\n",
    "    x, y = point\n",
    "    return (x**2 + y - 11)**2 + (x + y**2 - 7)**2\n",
    "\n",
    "def df_himmelblau(point):\n",
    "    x, y = point\n",
    "    dfdx = 4*x*(x**2 + y - 11) + 2*(x + y**2 - 7)\n",
    "    dfdy = 2*(x**2 + y - 11) + 4*y*(x + y**2 - 7)\n",
    "    return np.array([dfdx, dfdy])"
   ]
  },
  {
   "cell_type": "code",
   "execution_count": 5,
   "id": "732a8e9f",
   "metadata": {},
   "outputs": [],
   "source": [
    "initial_point_2d = [-3, -3]\n",
    "learning_rate = 0.01\n",
    "num_iterations = 100\n",
    "threshold = 1e-5"
   ]
  },
  {
   "cell_type": "code",
   "execution_count": 6,
   "id": "d5dca562",
   "metadata": {},
   "outputs": [
    {
     "name": "stdout",
     "output_type": "stream",
     "text": [
      "Iteration  0 :  [-3.58 -3.02]\n",
      "Iteration  1 :  [-3.72316352 -3.17224768]\n",
      "Iteration  2 :  [-3.75617542 -3.24979003]\n",
      "Iteration  3 :  [-3.77344987 -3.27232489]\n",
      "Iteration  4 :  [-3.77718455 -3.28020938]\n",
      "Iteration  5 :  [-3.7788135  -3.28223212]\n",
      "Iteration  6 :  [-3.77912151 -3.2829331 ]\n",
      "Iteration  7 :  [-3.7792695  -3.28310289]\n",
      "Iteration  8 :  [-3.77929341 -3.2831647 ]\n",
      "Iteration  9 :  [-3.77930698 -3.28317873]\n",
      "The minimum of the 2D function is at (x, y) = (-3.7793, -3.2832)\n"
     ]
    }
   ],
   "source": [
    "min_point_2d = gradient_descent(f_himmelblau, df_himmelblau, initial_point_2d, learning_rate, num_iterations, threshold)\n",
    "print(f\"The minimum of the 2D function is at (x, y) = ({min_point_2d[0]:.4f}, {min_point_2d[1]:.4f})\")"
   ]
  },
  {
   "cell_type": "code",
   "execution_count": null,
   "id": "3ae36fc7",
   "metadata": {},
   "outputs": [
    {
     "name": "stdout",
     "output_type": "stream",
     "text": [
      "Iteration  1 :  [-3.1 -3.1]\n",
      "Iteration  2 :  [-3.19980428 -3.07669764]\n",
      "Iteration  3 :  [-3.29880587 -3.08279707]\n",
      "Iteration  4 :  [-3.39640502 -3.12543436]\n",
      "Iteration  5 :  [-3.49195639 -3.18272612]\n",
      "Iteration  6 :  [-3.58461494 -3.23753581]\n",
      "Iteration  7 :  [-3.67319003 -3.27168564]\n",
      "Iteration  8 :  [-3.75594405 -3.28474024]\n",
      "Iteration  9 :  [-3.83057656 -3.2900635 ]\n",
      "Iteration  10 :  [-3.89455701 -3.30121889]\n",
      "Iteration  11 :  [-3.94573905 -3.32324829]\n",
      "Iteration  12 :  [-3.98292711 -3.35128582]\n",
      "Iteration  13 :  [-4.00605133 -3.37435618]\n",
      "Iteration  14 :  [-4.01593115 -3.38201297]\n",
      "Iteration  15 :  [-4.01389501 -3.3737519 ]\n",
      "Iteration  16 :  [-4.00153271 -3.35654421]\n",
      "Iteration  17 :  [-3.98057886 -3.33931267]\n",
      "Iteration  18 :  [-3.95286185 -3.32865139]\n",
      "Iteration  19 :  [-3.92027412 -3.32506951]\n",
      "Iteration  20 :  [-3.88472156 -3.3237125 ]\n",
      "Iteration  21 :  [-3.84804236 -3.31823214]\n",
      "Iteration  22 :  [-3.81191084 -3.30526945]\n",
      "Iteration  23 :  [-3.77776286 -3.2864665 ]\n",
      "Iteration  24 :  [-3.74677143 -3.26705663]\n",
      "Iteration  25 :  [-3.71986807 -3.25288305]\n",
      "Iteration  26 :  [-3.69778058 -3.24687967]\n",
      "Iteration  27 :  [-3.68104627 -3.2475941 ]\n",
      "Iteration  28 :  [-3.66998464 -3.25072203]\n",
      "Iteration  29 :  [-3.66465209 -3.25193344]\n",
      "Iteration  30 :  [-3.66481568 -3.24954657]\n",
      "Iteration  31 :  [-3.66997423 -3.24539145]\n",
      "Iteration  32 :  [-3.67942764 -3.24332453]\n",
      "Iteration  33 :  [-3.69236739 -3.24647538]\n",
      "Iteration  34 :  [-3.70795171 -3.25506931]\n",
      "Iteration  35 :  [-3.725341   -3.26634088]\n",
      "Iteration  36 :  [-3.74369506 -3.27629572]\n",
      "Iteration  37 :  [-3.76215674 -3.2822485 ]\n",
      "Iteration  38 :  [-3.77985564 -3.28449179]\n",
      "Iteration  39 :  [-3.79595474 -3.28573589]\n",
      "Iteration  40 :  [-3.80973032 -3.2888515 ]\n",
      "Iteration  41 :  [-3.82064891 -3.29462618]\n",
      "Iteration  42 :  [-3.82840343 -3.30118666]\n",
      "Iteration  43 :  [-3.83289652 -3.3054384 ]\n",
      "Iteration  44 :  [-3.83419325 -3.30544392]\n",
      "Iteration  45 :  [-3.83248083 -3.30186818]\n",
      "Iteration  46 :  [-3.82805908 -3.29732743]\n",
      "Iteration  47 :  [-3.82135138 -3.29431611]\n",
      "Iteration  48 :  [-3.81290562 -3.29338112]\n",
      "Iteration  49 :  [-3.80335972 -3.29296412]\n",
      "Iteration  50 :  [-3.79337422 -3.2909361 ]\n",
      "Iteration  51 :  [-3.78355965 -3.28650411]\n",
      "Iteration  52 :  [-3.77443168 -3.28090746]\n",
      "Iteration  53 :  [-3.76640535 -3.27640147]\n",
      "Iteration  54 :  [-3.7598114  -3.27446306]\n",
      "Iteration  55 :  [-3.75490522 -3.27472875]\n",
      "Iteration  56 :  [-3.75185164 -3.27549658]\n",
      "Iteration  57 :  [-3.7506957  -3.27527128]\n",
      "Iteration  58 :  [-3.75134556 -3.27401459]\n",
      "Iteration  59 :  [-3.75358759 -3.27305253]\n",
      "Iteration  60 :  [-3.75712908 -3.27379309]\n",
      "Iteration  61 :  [-3.76164429 -3.27643221]\n",
      "Iteration  62 :  [-3.76679995 -3.27977803]\n",
      "Iteration  63 :  [-3.77225744 -3.28228828]\n",
      "Iteration  64 :  [-3.77766948 -3.28335987]\n",
      "Iteration  65 :  [-3.78269354 -3.28370697]\n",
      "Iteration  66 :  [-3.78702646 -3.28452846]\n",
      "Iteration  67 :  [-3.79044286 -3.28629823]\n",
      "Iteration  68 :  [-3.79281381 -3.28831661]\n",
      "Iteration  69 :  [-3.79409744 -3.28939885]\n",
      "Iteration  70 :  [-3.79431551 -3.28900029]\n",
      "Iteration  71 :  [-3.79353803 -3.28768912]\n",
      "Iteration  72 :  [-3.79188468 -3.28654821]\n",
      "Iteration  73 :  [-3.78953151 -3.28614388]\n",
      "Iteration  74 :  [-3.78670393 -3.28607772]\n",
      "Iteration  75 :  [-3.78364933 -3.28551199]\n",
      "Iteration  76 :  [-3.78060219 -3.28409106]\n",
      "Iteration  77 :  [-3.77776145 -3.28232436]\n",
      "Iteration  78 :  [-3.77528782 -3.28108233]\n",
      "Iteration  79 :  [-3.77331087 -3.28076159]\n",
      "Iteration  80 :  [-3.77192918 -3.28097047]\n",
      "Iteration  81 :  [-3.7711982  -3.28101172]\n",
      "Iteration  82 :  [-3.77111659 -3.28062343]\n",
      "Iteration  83 :  [-3.77162576 -3.2802097 ]\n",
      "Iteration  84 :  [-3.77262644 -3.28035941]\n",
      "Iteration  85 :  [-3.77400047 -3.28119754]\n",
      "Iteration  86 :  [-3.77562373 -3.28225344]\n",
      "Iteration  87 :  [-3.77736705 -3.28295233]\n",
      "Iteration  88 :  [-3.77909557 -3.28317942]\n",
      "Iteration  89 :  [-3.78067751 -3.2833197 ]\n",
      "Iteration  90 :  [-3.78200194 -3.28376803]\n",
      "Iteration  91 :  [-3.78299386 -3.28447129]\n",
      "Iteration  92 :  [-3.78361642 -3.2849944 ]\n",
      "Iteration  93 :  [-3.78386228 -3.28500519]\n",
      "Iteration  94 :  [-3.78374529 -3.28462319]\n",
      "Iteration  95 :  [-3.78330004 -3.28425854]\n",
      "Iteration  96 :  [-3.78258573 -3.2841525 ]\n",
      "Iteration  97 :  [-3.78168415 -3.28414684]\n",
      "Iteration  98 :  [-3.7806878  -3.28391966]\n",
      "Iteration  99 :  [-3.77968463 -3.28338891]\n",
      "Iteration  100 :  [-3.77874932 -3.28281595]\n",
      "The minimum of the 2D function using Adam is at (x, y) = (-3.7787, -3.2828)\n"
     ]
    }
   ],
   "source": [
    "# use higher learning rate\n",
    "min_point_adam = adam_optimizer(f_himmelblau, df_himmelblau, initial_point_2d, learning_rate*10, num_iterations, threshold)\n",
    "print(f\"The minimum of the 2D function using Adam is at (x, y) = ({min_point_adam[0]:.4f}, {min_point_adam[1]:.4f})\")"
   ]
  }
 ],
 "metadata": {
  "kernelspec": {
   "display_name": "Python 3",
   "language": "python",
   "name": "python3"
  },
  "language_info": {
   "codemirror_mode": {
    "name": "ipython",
    "version": 3
   },
   "file_extension": ".py",
   "mimetype": "text/x-python",
   "name": "python",
   "nbconvert_exporter": "python",
   "pygments_lexer": "ipython3",
   "version": "3.9.6"
  }
 },
 "nbformat": 4,
 "nbformat_minor": 5
}
